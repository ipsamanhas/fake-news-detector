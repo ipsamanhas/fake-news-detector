{
 "cells": [
  {
   "cell_type": "code",
   "execution_count": null,
   "metadata": {},
   "outputs": [
    {
     "ename": "",
     "evalue": "",
     "output_type": "error",
     "traceback": [
      "\u001b[1;31mRunning cells with 'Python 3.12.7' requires the ipykernel package.\n",
      "\u001b[1;31mRun the following command to install 'ipykernel' into the Python environment. \n",
      "\u001b[1;31mCommand: '/opt/homebrew/bin/python3.12 -m pip install ipykernel -U --user --force-reinstall'"
     ]
    }
   ],
   "source": [
    "import pandas as pd\n",
    "\n",
    "df_fake = pd.read_csv('fake-news-detector/data/archive/Fake.csv')\n",
    "df_true = pd.read_csv('fake-news-detector/data/archive/True.csv')\n",
    "\n",
    "#adding labels\n",
    "df_fake['label'] = \"FAKE\"\n",
    "df_true['label'] = \"TRUE\"\n",
    "\n",
    "#combine them into one dataframe\n",
    "df = pd.concat([df_fake, df_true], axis=0).reset_index(drop=True)\n",
    "\n",
    "#show shape of first few rows\n",
    "print(\"Shape:\", df.shape)\n",
    "df.head(10)"
   ]
  }
 ],
 "metadata": {
  "kernelspec": {
   "display_name": "Python 3",
   "language": "python",
   "name": "python3"
  },
  "language_info": {
   "name": "python",
   "version": "3.12.7"
  }
 },
 "nbformat": 4,
 "nbformat_minor": 2
}
