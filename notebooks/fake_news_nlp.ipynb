{
  "nbformat": 4,
  "nbformat_minor": 0,
  "metadata": {
    "colab": {
      "provenance": []
    },
    "kernelspec": {
      "name": "python3",
      "display_name": "Python 3"
    },
    "language_info": {
      "name": "python"
    }
  },
  "cells": [
    {
      "cell_type": "code",
      "execution_count": null,
      "metadata": {
        "id": "gKNt5dwP3hGR"
      },
      "outputs": [],
      "source": [
        "import pandas as pd\n",
        "\n",
        "df_fake = pd.read_csv('../data/archive/Fake.csv')\n",
        "df_true = pd.read_csv('../data/archive/True.csv')\n",
        "\n",
        "#adding labels\n",
        "df_fake['label'] = \"FAKE\"\n",
        "df_true['label'] = \"TRUE\"\n",
        "\n",
        "#combine them into one dataframe\n",
        "df = pd.concat([df_fake, df_true], axis=0).reset_index(drop=True)\n",
        "\n",
        "#show shape of first few rows\n",
        "print(\"Shape:\", df.shape)\n",
        "df.head(10)\n"
      ]
    },
    {
      "cell_type": "code",
      "source": [
        "df.info()"
      ],
      "metadata": {
        "id": "ozLgC2j24Fb1"
      },
      "execution_count": null,
      "outputs": []
    },
    {
      "cell_type": "code",
      "source": [
        "df['label'].value_counts()"
      ],
      "metadata": {
        "id": "jIJsHA2A4SdW"
      },
      "execution_count": null,
      "outputs": []
    },
    {
      "cell_type": "code",
      "source": [
        "#combine title and text into a single column\n",
        "df['combined_text'] = df['title'] + \" \" + df['text']\n",
        "\n",
        "#check it\n",
        "df[['combined_text', 'label']].head()"
      ],
      "metadata": {
        "id": "s39mxjla4UMm"
      },
      "execution_count": null,
      "outputs": []
    },
    {
      "cell_type": "code",
      "source": [
        "import re\n",
        "\n",
        "#now we'll just lowercase all of the text and remove the numbers and punctuation\n",
        "\n",
        "def clean_text(text):\n",
        "    text = text.lower()\n",
        "    text = re.sub(r'[^a-z\\s]', '', text)  # Remove everything except letters and spaces\n",
        "    return text\n",
        "\n",
        "# clean it\n",
        "df['clean_text'] = df['combined_text'].apply(clean_text)\n",
        "\n",
        "# check the cleaned text\n",
        "df[['clean_text', 'label']].head()"
      ],
      "metadata": {
        "id": "DgvUTN-f4Yiq"
      },
      "execution_count": null,
      "outputs": []
    },
    {
      "cell_type": "code",
      "source": [
        "from sklearn.feature_extraction.text import TfidfVectorizer\n",
        "\n",
        "# Initialize TF-IDF Vectorizer\n",
        "tfidf = TfidfVectorizer(max_features=5000, stop_words='english')\n",
        "\n",
        "# Fit and transform the clean_text column\n",
        "X = tfidf.fit_transform(df['clean_text'])\n",
        "\n",
        "# Target variable\n",
        "y = df['label']"
      ],
      "metadata": {
        "id": "zEGHybRP4wVT"
      },
      "execution_count": null,
      "outputs": []
    },
    {
      "cell_type": "code",
      "source": [
        "# NOW WE'LL WORK ON TRAINING THE DATASET\n",
        "\n",
        "#split the dataset into train and test sets\n",
        "from sklearn.model_selection import train_test_split\n",
        "\n",
        "X_train, X_test, y_train, y_test = train_test_split(\n",
        "    X, y, test_size=0.2, random_state=42\n",
        ")"
      ],
      "metadata": {
        "id": "hKwqs0-s4zRH"
      },
      "execution_count": null,
      "outputs": []
    },
    {
      "cell_type": "code",
      "source": [
        "#initialise and train a logistic regression model\n",
        "from sklearn.linear_model import LogisticRegression\n",
        "\n",
        "# Initialize and train the model\n",
        "model = LogisticRegression()\n",
        "model.fit(X_train, y_train)"
      ],
      "metadata": {
        "id": "gpQKkKql4z8a"
      },
      "execution_count": null,
      "outputs": []
    },
    {
      "cell_type": "code",
      "source": [
        "#make predictions and then evaluate the model\n",
        "from sklearn.metrics import accuracy_score, classification_report\n",
        "\n",
        "# Make predictions\n",
        "y_pred = model.predict(X_test)\n",
        "\n",
        "# Evaluate\n",
        "print(\"Accuracy:\", accuracy_score(y_test, y_pred))\n",
        "print(\"\\nClassification Report:\\n\", classification_report(y_test, y_pred))"
      ],
      "metadata": {
        "id": "_Tw9_MJD43YB"
      },
      "execution_count": null,
      "outputs": []
    },
    {
      "cell_type": "code",
      "source": [
        "import matplotlib.pyplot as plt\n",
        "from sklearn.metrics import confusion_matrix, ConfusionMatrixDisplay\n",
        "\n",
        "# Compute the confusion matrix\n",
        "cm = confusion_matrix(y_test, y_pred, labels=model.classes_)\n",
        "\n",
        "# Display it\n",
        "disp = ConfusionMatrixDisplay(confusion_matrix=cm, display_labels=model.classes_)\n",
        "disp.plot(cmap='Blues', values_format='d')\n",
        "plt.title(\"Confusion Matrix\")\n",
        "plt.show()"
      ],
      "metadata": {
        "id": "srciTX9w45ln"
      },
      "execution_count": null,
      "outputs": []
    }
  ]
}